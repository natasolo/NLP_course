{
  "nbformat": 4,
  "nbformat_minor": 0,
  "metadata": {
    "colab": {
      "name": "N-grams.ipynb",
      "provenance": [],
      "collapsed_sections": [],
      "include_colab_link": true
    },
    "kernelspec": {
      "name": "python3",
      "display_name": "Python 3"
    },
    "language_info": {
      "name": "python"
    }
  },
  "cells": [
    {
      "cell_type": "markdown",
      "metadata": {
        "id": "view-in-github",
        "colab_type": "text"
      },
      "source": [
        "<a href=\"https://colab.research.google.com/github/natasolo/NLP_course/blob/main/N_grams.ipynb\" target=\"_parent\"><img src=\"https://colab.research.google.com/assets/colab-badge.svg\" alt=\"Open In Colab\"/></a>"
      ]
    },
    {
      "cell_type": "code",
      "metadata": {
        "id": "535HIIOlFP2D"
      },
      "source": [
        "#Python code to generate ngrams\n",
        "import re\n",
        "\n",
        "def generate_ngrams(text,n):\n",
        "\n",
        "    # split sentences into tokens\n",
        "    tokens=re.split(\"\\\\s+\",text)\n",
        "    ngrams=[]\n",
        "\n",
        "    # collect the n-grams\n",
        "    for i in range(len(tokens)-n+1):\n",
        "       temp=[tokens[j] for j in range(i,i+n)]\n",
        "       ngrams.append(\" \".join(temp))\n",
        "\n",
        "    return ngrams\n"
      ],
      "execution_count": null,
      "outputs": []
    },
    {
      "cell_type": "code",
      "metadata": {
        "id": "8Pt2l0coGa1i"
      },
      "source": [
        "test_text = 'I had seen little of Holmes lately. My marriage had drifted us away from each other. My own complete happiness, and the home-centred interests which rise up around the man who first finds himself master of his own establishment'"
      ],
      "execution_count": null,
      "outputs": []
    },
    {
      "cell_type": "code",
      "metadata": {
        "colab": {
          "base_uri": "https://localhost:8080/"
        },
        "id": "MEo4Qe0IG1M5",
        "outputId": "27b2f286-4b22-46ec-f0d5-b1295d97978d"
      },
      "source": [
        "generate_ngrams(test_text, 3)"
      ],
      "execution_count": null,
      "outputs": [
        {
          "output_type": "execute_result",
          "data": {
            "text/plain": [
              "['I had seen',\n",
              " 'had seen little',\n",
              " 'seen little of',\n",
              " 'little of Holmes',\n",
              " 'of Holmes lately.',\n",
              " 'Holmes lately. My',\n",
              " 'lately. My marriage',\n",
              " 'My marriage had',\n",
              " 'marriage had drifted',\n",
              " 'had drifted us',\n",
              " 'drifted us away',\n",
              " 'us away from',\n",
              " 'away from each',\n",
              " 'from each other.',\n",
              " 'each other. My',\n",
              " 'other. My own',\n",
              " 'My own complete',\n",
              " 'own complete happiness,',\n",
              " 'complete happiness, and',\n",
              " 'happiness, and the',\n",
              " 'and the home-centred',\n",
              " 'the home-centred interests',\n",
              " 'home-centred interests which',\n",
              " 'interests which rise',\n",
              " 'which rise up',\n",
              " 'rise up around',\n",
              " 'up around the',\n",
              " 'around the man',\n",
              " 'the man who',\n",
              " 'man who first',\n",
              " 'who first finds',\n",
              " 'first finds himself',\n",
              " 'finds himself master',\n",
              " 'himself master of',\n",
              " 'master of his',\n",
              " 'of his own',\n",
              " 'his own establishment']"
            ]
          },
          "metadata": {
            "tags": []
          },
          "execution_count": 4
        }
      ]
    },
    {
      "cell_type": "code",
      "metadata": {
        "id": "jeGrsYYpF4YM"
      },
      "source": [
        "import nltk"
      ],
      "execution_count": null,
      "outputs": []
    },
    {
      "cell_type": "code",
      "metadata": {
        "colab": {
          "base_uri": "https://localhost:8080/"
        },
        "id": "2_Trc39JFcdn",
        "outputId": "353cd571-a088-4fe9-b814-0b9a3a0e6ef2"
      },
      "source": [
        "#another way to do generate ngrams using NLTK\n",
        "from nltk import ngrams\n",
        "my_ngrams = ngrams(test_text.split(), 2)\n",
        "#these return a generator object. Cast into a list for multiple use\n",
        "print(list(my_ngrams))\n"
      ],
      "execution_count": null,
      "outputs": [
        {
          "output_type": "stream",
          "text": [
            "[('I', 'had'), ('had', 'seen'), ('seen', 'little'), ('little', 'of'), ('of', 'Holmes'), ('Holmes', 'lately.'), ('lately.', 'My'), ('My', 'marriage'), ('marriage', 'had'), ('had', 'drifted'), ('drifted', 'us'), ('us', 'away'), ('away', 'from'), ('from', 'each'), ('each', 'other.'), ('other.', 'My'), ('My', 'own'), ('own', 'complete'), ('complete', 'happiness,'), ('happiness,', 'and'), ('and', 'the'), ('the', 'home-centred'), ('home-centred', 'interests'), ('interests', 'which'), ('which', 'rise'), ('rise', 'up'), ('up', 'around'), ('around', 'the'), ('the', 'man'), ('man', 'who'), ('who', 'first'), ('first', 'finds'), ('finds', 'himself'), ('himself', 'master'), ('master', 'of'), ('of', 'his'), ('his', 'own'), ('own', 'establishment')]\n"
          ],
          "name": "stdout"
        }
      ]
    }
  ]
}
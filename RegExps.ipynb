{
  "nbformat": 4,
  "nbformat_minor": 0,
  "metadata": {
    "colab": {
      "name": "RegExps.ipynb",
      "provenance": [],
      "collapsed_sections": [],
      "authorship_tag": "ABX9TyP57lqkmrWJ6ZZ6HoHMjZp1",
      "include_colab_link": true
    },
    "kernelspec": {
      "name": "python3",
      "display_name": "Python 3"
    },
    "language_info": {
      "name": "python"
    }
  },
  "cells": [
    {
      "cell_type": "markdown",
      "metadata": {
        "id": "view-in-github",
        "colab_type": "text"
      },
      "source": [
        "<a href=\"https://colab.research.google.com/github/natasolo/NLP_course/blob/main/RegExps.ipynb\" target=\"_parent\"><img src=\"https://colab.research.google.com/assets/colab-badge.svg\" alt=\"Open In Colab\"/></a>"
      ]
    },
    {
      "cell_type": "code",
      "metadata": {
        "colab": {
          "base_uri": "https://localhost:8080/"
        },
        "id": "VJgwIRxjmSlF",
        "outputId": "165675bc-4d8c-4932-aa9e-d28c8b27da22"
      },
      "source": [
        "sent = ['Call','please', 'Mell', '.']\n",
        "for token in sent:\n",
        "\tif token.endswith('l'):\n",
        "\t    print (token)\n"
      ],
      "execution_count": null,
      "outputs": [
        {
          "output_type": "stream",
          "text": [
            "Call\n",
            "Mell\n"
          ],
          "name": "stdout"
        }
      ]
    },
    {
      "cell_type": "code",
      "metadata": {
        "id": "t-70c0NU4-Y2"
      },
      "source": [
        "import re"
      ],
      "execution_count": null,
      "outputs": []
    },
    {
      "cell_type": "code",
      "metadata": {
        "colab": {
          "base_uri": "https://localhost:8080/"
        },
        "id": "RJCeJOKB5dvn",
        "outputId": "01a52a06-d79f-45e0-8260-723a734f99fa"
      },
      "source": [
        "pattern = '^a...s$'\n",
        "string = 'abyss'\n",
        "result = re.match(pattern, string)\n",
        "\n",
        "if result:\n",
        "  print(\"Search successful.\")\n",
        "else:\n",
        "  print(\"Search unsuccessful.\")\t"
      ],
      "execution_count": null,
      "outputs": [
        {
          "output_type": "stream",
          "text": [
            "Search successful.\n"
          ],
          "name": "stdout"
        }
      ]
    },
    {
      "cell_type": "code",
      "metadata": {
        "colab": {
          "base_uri": "https://localhost:8080/"
        },
        "id": "Wvn8YeCp5jHY",
        "outputId": "f2cfa572-db10-416d-e67e-1f3b2d08f2ae"
      },
      "source": [
        "string = 'hello 12 hi 89. Howdy 34'\n",
        "pattern = '\\d+'\n",
        "\n",
        "result = re.findall(pattern, string) \n",
        "print(result)"
      ],
      "execution_count": null,
      "outputs": [
        {
          "output_type": "stream",
          "text": [
            "['12', '89', '34']\n"
          ],
          "name": "stdout"
        }
      ]
    },
    {
      "cell_type": "code",
      "metadata": {
        "colab": {
          "base_uri": "https://localhost:8080/"
        },
        "id": "h38T0muP5xOF",
        "outputId": "a1ed6f6d-916e-45b0-8cf0-9efdec1acd70"
      },
      "source": [
        "string = 'Twelve:12 Eighty nine:89.'\n",
        "pattern = '\\d+'\n",
        "\n",
        "result = re.split(pattern, string) \n",
        "print(result)"
      ],
      "execution_count": null,
      "outputs": [
        {
          "output_type": "stream",
          "text": [
            "['Twelve:', ' Eighty nine:', '.']\n"
          ],
          "name": "stdout"
        }
      ]
    },
    {
      "cell_type": "code",
      "metadata": {
        "colab": {
          "base_uri": "https://localhost:8080/"
        },
        "id": "-nMuojdM58Y9",
        "outputId": "bd28e832-520f-42b4-a96f-14dfc138349f"
      },
      "source": [
        "string = 'abc 12\\ de 23 \\n f45 6'\n",
        "pattern = '\\s+'\n",
        "replace = ''\n",
        "\n",
        "new_string = re.sub(pattern, replace, string) \n",
        "print(new_string)\n"
      ],
      "execution_count": null,
      "outputs": [
        {
          "output_type": "stream",
          "text": [
            "abc12\\de23f456\n"
          ],
          "name": "stdout"
        }
      ]
    },
    {
      "cell_type": "code",
      "metadata": {
        "colab": {
          "base_uri": "https://localhost:8080/"
        },
        "id": "Jv_7bK5s6Q4g",
        "outputId": "112d4264-9cab-4b5e-b4cc-2a0665e76902"
      },
      "source": [
        "string = \"Python is fun\"\n",
        "match = re.search('\\APython', string)\n",
        "\n",
        "if match:\n",
        "  print(\"pattern found inside the string\")\n",
        "else:\n",
        "  print(\"pattern not found\")  "
      ],
      "execution_count": null,
      "outputs": [
        {
          "output_type": "stream",
          "text": [
            "pattern found inside the string\n"
          ],
          "name": "stdout"
        }
      ]
    }
  ]
}
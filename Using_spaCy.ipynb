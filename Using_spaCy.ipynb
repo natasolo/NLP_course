{
  "nbformat": 4,
  "nbformat_minor": 0,
  "metadata": {
    "colab": {
      "name": "Using_spaCy.ipynb",
      "provenance": [],
      "collapsed_sections": []
    },
    "kernelspec": {
      "name": "python3",
      "display_name": "Python 3"
    },
    "language_info": {
      "name": "python"
    }
  },
  "cells": [
    {
      "cell_type": "code",
      "metadata": {
        "id": "_lT3HSTjsRfP"
      },
      "source": [
        "# pip install -U spacy\n",
        "# python -m spacy download en_core_web_sm\n",
        "import spacy"
      ],
      "execution_count": null,
      "outputs": []
    },
    {
      "cell_type": "code",
      "metadata": {
        "id": "9BG2Lm54sG-v"
      },
      "source": [
        "# Load English tokenizer, tagger, parser and NER\n",
        "nlp = spacy.load(\"en_core_web_sm\")"
      ],
      "execution_count": null,
      "outputs": []
    },
    {
      "cell_type": "code",
      "metadata": {
        "id": "HT5oTtEIsJFE"
      },
      "source": [
        "text = \"When Sebastian Thrun started working on self-driving cars at Google in 2007, few people outside of the company took him seriously. I can tell you very senior CEOs of major American car companies would shake my hand and turn away because I wasn’t worth talking to,” said Thrun, in an interview with Recode earlier this week.\""
      ],
      "execution_count": null,
      "outputs": []
    },
    {
      "cell_type": "code",
      "metadata": {
        "id": "BEGDzBQnsdYm"
      },
      "source": [
        "# Converting text into a spaCy object\n",
        "doc = nlp(text)"
      ],
      "execution_count": null,
      "outputs": []
    },
    {
      "cell_type": "code",
      "metadata": {
        "colab": {
          "base_uri": "https://localhost:8080/"
        },
        "id": "i2AQor_Kspw3",
        "outputId": "c43b9bb3-2ea7-4dc3-a89d-e847af53b366"
      },
      "source": [
        "#Get tokens\n",
        "print([token.text for token in doc])"
      ],
      "execution_count": null,
      "outputs": [
        {
          "output_type": "stream",
          "name": "stdout",
          "text": [
            "['When', 'Sebastian', 'Thrun', 'started', 'working', 'on', 'self', '-', 'driving', 'cars', 'at', 'Google', 'in', '2007', ',', 'few', 'people', 'outside', 'of', 'the', 'company', 'took', 'him', 'seriously', '.', 'I', 'can', 'tell', 'you', 'very', 'senior', 'CEOs', 'of', 'major', 'American', 'car', 'companies', 'would', 'shake', 'my', 'hand', 'and', 'turn', 'away', 'because', 'I', 'was', 'n’t', 'worth', 'talking', 'to', ',', '”', 'said', 'Thrun', ',', 'in', 'an', 'interview', 'with', 'Recode', 'earlier', 'this', 'week', '.']\n"
          ]
        }
      ]
    },
    {
      "cell_type": "code",
      "metadata": {
        "colab": {
          "base_uri": "https://localhost:8080/"
        },
        "id": "9v_B6-df8L7v",
        "outputId": "96e0f273-76c5-4086-d4af-2e2236afa4c9"
      },
      "source": [
        "# Checking if the tokens of a text are alphabets\n",
        "for token in doc:\n",
        "    print(token.text, token.is_alpha)\n"
      ],
      "execution_count": null,
      "outputs": [
        {
          "output_type": "stream",
          "name": "stdout",
          "text": [
            "When True\n",
            "Sebastian True\n",
            "Thrun True\n",
            "started True\n",
            "working True\n",
            "on True\n",
            "self True\n",
            "- False\n",
            "driving True\n",
            "cars True\n",
            "at True\n",
            "Google True\n",
            "in True\n",
            "2007 False\n",
            ", False\n",
            "few True\n",
            "people True\n",
            "outside True\n",
            "of True\n",
            "the True\n",
            "company True\n",
            "took True\n",
            "him True\n",
            "seriously True\n",
            ". False\n",
            "I True\n",
            "can True\n",
            "tell True\n",
            "you True\n",
            "very True\n",
            "senior True\n",
            "CEOs True\n",
            "of True\n",
            "major True\n",
            "American True\n",
            "car True\n",
            "companies True\n",
            "would True\n",
            "shake True\n",
            "my True\n",
            "hand True\n",
            "and True\n",
            "turn True\n",
            "away True\n",
            "because True\n",
            "I True\n",
            "was True\n",
            "n’t False\n",
            "worth True\n",
            "talking True\n",
            "to True\n",
            ", False\n",
            "” False\n",
            "said True\n",
            "Thrun True\n",
            ", False\n",
            "in True\n",
            "an True\n",
            "interview True\n",
            "with True\n",
            "Recode True\n",
            "earlier True\n",
            "this True\n",
            "week True\n",
            ". False\n"
          ]
        }
      ]
    },
    {
      "cell_type": "code",
      "metadata": {
        "id": "nMzBmJiD8ejW"
      },
      "source": [
        "import collections\n",
        "from collections import Counter\n"
      ],
      "execution_count": null,
      "outputs": []
    },
    {
      "cell_type": "code",
      "metadata": {
        "colab": {
          "base_uri": "https://localhost:8080/"
        },
        "id": "TlOtlK_l9Byr",
        "outputId": "ad4e9565-6b78-415e-debc-45a53b8c4d58"
      },
      "source": [
        "#creating a list of tokens and get token_frequency\n",
        "list_of_tokens=[token.text for token in doc if  not token.is_punct]\n",
        "token_frequency=Counter(list_of_tokens)\n",
        "print(token_frequency)"
      ],
      "execution_count": null,
      "outputs": [
        {
          "output_type": "stream",
          "name": "stdout",
          "text": [
            "Counter({'Thrun': 2, 'in': 2, 'of': 2, 'I': 2, 'When': 1, 'Sebastian': 1, 'started': 1, 'working': 1, 'on': 1, 'self': 1, 'driving': 1, 'cars': 1, 'at': 1, 'Google': 1, '2007': 1, 'few': 1, 'people': 1, 'outside': 1, 'the': 1, 'company': 1, 'took': 1, 'him': 1, 'seriously': 1, 'can': 1, 'tell': 1, 'you': 1, 'very': 1, 'senior': 1, 'CEOs': 1, 'major': 1, 'American': 1, 'car': 1, 'companies': 1, 'would': 1, 'shake': 1, 'my': 1, 'hand': 1, 'and': 1, 'turn': 1, 'away': 1, 'because': 1, 'was': 1, 'n’t': 1, 'worth': 1, 'talking': 1, 'to': 1, 'said': 1, 'an': 1, 'interview': 1, 'with': 1, 'Recode': 1, 'earlier': 1, 'this': 1, 'week': 1})\n"
          ]
        }
      ]
    },
    {
      "cell_type": "code",
      "metadata": {
        "colab": {
          "base_uri": "https://localhost:8080/"
        },
        "id": "PjOT_xVh3GRj",
        "outputId": "0a95a57b-9bb2-4c7b-fb91-3dd79527f647"
      },
      "source": [
        "#Get pos_tag\n",
        "print ([token.pos_ for token in doc])"
      ],
      "execution_count": null,
      "outputs": [
        {
          "output_type": "stream",
          "name": "stdout",
          "text": [
            "['ADV', 'PROPN', 'PROPN', 'VERB', 'VERB', 'ADP', 'NOUN', 'PUNCT', 'VERB', 'NOUN', 'ADP', 'PROPN', 'ADP', 'NUM', 'PUNCT', 'ADJ', 'NOUN', 'ADV', 'ADP', 'DET', 'NOUN', 'VERB', 'PRON', 'ADV', 'PUNCT', 'PRON', 'VERB', 'VERB', 'PRON', 'ADV', 'ADJ', 'NOUN', 'ADP', 'ADJ', 'ADJ', 'NOUN', 'NOUN', 'VERB', 'VERB', 'DET', 'NOUN', 'CCONJ', 'VERB', 'ADV', 'SCONJ', 'PRON', 'AUX', 'PART', 'ADJ', 'VERB', 'ADP', 'PUNCT', 'PUNCT', 'VERB', 'PROPN', 'PUNCT', 'ADP', 'DET', 'NOUN', 'ADP', 'PROPN', 'ADV', 'DET', 'NOUN', 'PUNCT']\n"
          ]
        }
      ]
    },
    {
      "cell_type": "code",
      "metadata": {
        "colab": {
          "base_uri": "https://localhost:8080/"
        },
        "id": "MzwNFY8a3UCg",
        "outputId": "a093cb5b-faf4-4451-f832-28288c227f37"
      },
      "source": [
        "#Get text and its pos_tag\n",
        "for token in doc:\n",
        "  print(token, token.pos_)"
      ],
      "execution_count": null,
      "outputs": [
        {
          "output_type": "stream",
          "name": "stdout",
          "text": [
            "When ADV\n",
            "Sebastian PROPN\n",
            "Thrun PROPN\n",
            "started VERB\n",
            "working VERB\n",
            "on ADP\n",
            "self NOUN\n",
            "- PUNCT\n",
            "driving VERB\n",
            "cars NOUN\n",
            "at ADP\n",
            "Google PROPN\n",
            "in ADP\n",
            "2007 NUM\n",
            ", PUNCT\n",
            "few ADJ\n",
            "people NOUN\n",
            "outside ADV\n",
            "of ADP\n",
            "the DET\n",
            "company NOUN\n",
            "took VERB\n",
            "him PRON\n",
            "seriously ADV\n",
            ". PUNCT\n",
            "I PRON\n",
            "can VERB\n",
            "tell VERB\n",
            "you PRON\n",
            "very ADV\n",
            "senior ADJ\n",
            "CEOs NOUN\n",
            "of ADP\n",
            "major ADJ\n",
            "American ADJ\n",
            "car NOUN\n",
            "companies NOUN\n",
            "would VERB\n",
            "shake VERB\n",
            "my DET\n",
            "hand NOUN\n",
            "and CCONJ\n",
            "turn VERB\n",
            "away ADV\n",
            "because SCONJ\n",
            "I PRON\n",
            "was AUX\n",
            "n’t PART\n",
            "worth ADJ\n",
            "talking VERB\n",
            "to ADP\n",
            ", PUNCT\n",
            "” PUNCT\n",
            "said VERB\n",
            "Thrun PROPN\n",
            ", PUNCT\n",
            "in ADP\n",
            "an DET\n",
            "interview NOUN\n",
            "with ADP\n",
            "Recode PROPN\n",
            "earlier ADV\n",
            "this DET\n",
            "week NOUN\n",
            ". PUNCT\n"
          ]
        }
      ]
    },
    {
      "cell_type": "code",
      "metadata": {
        "colab": {
          "base_uri": "https://localhost:8080/"
        },
        "id": "bj7ROCNT34ZJ",
        "outputId": "a1ea04c1-dde0-4382-aea4-bd5819a7556f"
      },
      "source": [
        "#Get only PROPN\n",
        "print(\"PROPN: \", [token.text for token in doc if token.pos_ == \"PROPN\"])"
      ],
      "execution_count": null,
      "outputs": [
        {
          "output_type": "stream",
          "name": "stdout",
          "text": [
            "PROPN:  ['Sebastian', 'Thrun', 'Google', 'Thrun', 'Recode']\n"
          ]
        }
      ]
    },
    {
      "cell_type": "code",
      "metadata": {
        "colab": {
          "base_uri": "https://localhost:8080/"
        },
        "id": "a9xzR7PZ4U1K",
        "outputId": "c20faabc-b49f-4fde-c0b3-c0a16a7d3b20"
      },
      "source": [
        "#Get lemma for all nouns\n",
        "print([token.lemma_ for token in doc if token.pos_ == \"NOUN\"])\n",
        "print([token.lemma_ for token in doc if token.pos_ == \"VERB\"])\n"
      ],
      "execution_count": null,
      "outputs": [
        {
          "output_type": "stream",
          "name": "stdout",
          "text": [
            "['self', 'car', 'people', 'company', 'ceo', 'car', 'company', 'hand', 'interview', 'week']\n",
            "['start', 'work', 'drive', 'take', 'can', 'tell', 'would', 'shake', 'turn', 'talk', 'say']\n"
          ]
        }
      ]
    },
    {
      "cell_type": "code",
      "metadata": {
        "colab": {
          "base_uri": "https://localhost:8080/"
        },
        "id": "esgXbg1JtA_f",
        "outputId": "f84674f6-c691-4091-ee18-55443fe9e9f9"
      },
      "source": [
        "#Split text into sentences\n",
        "print( [sent.text for sent in doc.sents])"
      ],
      "execution_count": null,
      "outputs": [
        {
          "output_type": "stream",
          "name": "stdout",
          "text": [
            "['When Sebastian Thrun started working on self-driving cars at Google in 2007, few people outside of the company took him seriously.', 'I can tell you very senior CEOs of major American car companies would shake my hand and turn away because I wasn’t worth talking to,” said Thrun, in an interview with Recode earlier this week.']\n"
          ]
        }
      ]
    },
    {
      "cell_type": "code",
      "metadata": {
        "colab": {
          "base_uri": "https://localhost:8080/"
        },
        "id": "lJNwn57KucJP",
        "outputId": "d5ec0ec8-54cd-44f8-a2f7-5fb43f2a5434"
      },
      "source": [
        "#Extract noun phrases and verbs\n",
        "print(\"Noun phrases:\", [chunk.text for chunk in doc.noun_chunks])"
      ],
      "execution_count": null,
      "outputs": [
        {
          "output_type": "stream",
          "name": "stdout",
          "text": [
            "Noun phrases: ['Sebastian Thrun', 'self-driving cars', 'Google', 'few people', 'the company', 'him', 'I', 'you', 'very senior CEOs', 'major American car companies', 'my hand', 'I', 'Thrun', 'an interview', 'Recode']\n"
          ]
        }
      ]
    },
    {
      "cell_type": "code",
      "metadata": {
        "colab": {
          "base_uri": "https://localhost:8080/"
        },
        "id": "IaU2rKKKvMHg",
        "outputId": "0f27bbf6-10f1-4083-d4b6-77530bb28d44"
      },
      "source": [
        "#Extract entities from text\n",
        "print([ entity.text for entity in doc.ents])"
      ],
      "execution_count": null,
      "outputs": [
        {
          "output_type": "stream",
          "name": "stdout",
          "text": [
            "['Sebastian', 'Google', '2007', 'American', 'Recode', 'earlier this week']\n"
          ]
        }
      ]
    },
    {
      "cell_type": "code",
      "metadata": {
        "colab": {
          "base_uri": "https://localhost:8080/"
        },
        "id": "TxG7LWh446BG",
        "outputId": "aa3892d6-e0b6-496d-e0c4-1c59bf326480"
      },
      "source": [
        "#Dependency tree\n",
        "from spacy import displacy\n",
        "doc_1= nlp (\"This is a sentence\")\n",
        "displacy.serve(doc_1, style='dep')"
      ],
      "execution_count": null,
      "outputs": [
        {
          "output_type": "stream",
          "name": "stdout",
          "text": [
            "\n",
            "Using the 'dep' visualizer\n",
            "Serving on http://0.0.0.0:5000 ...\n",
            "\n",
            "Shutting down server on port 5000.\n"
          ]
        }
      ]
    },
    {
      "cell_type": "code",
      "metadata": {
        "colab": {
          "base_uri": "https://localhost:8080/"
        },
        "id": "CAi33Ril9bbo",
        "outputId": "07491215-9eb5-4978-b93c-7008723518f0"
      },
      "source": [
        "for token in doc_1:\n",
        "    print(token.text,'-----',token.dep_)"
      ],
      "execution_count": null,
      "outputs": [
        {
          "output_type": "stream",
          "name": "stdout",
          "text": [
            "This ----- nsubj\n",
            "is ----- ROOT\n",
            "a ----- det\n",
            "sentence ----- attr\n"
          ]
        }
      ]
    },
    {
      "cell_type": "code",
      "metadata": {
        "colab": {
          "base_uri": "https://localhost:8080/",
          "height": 333
        },
        "id": "wuQ86vGt9kPu",
        "outputId": "e642a8d7-3607-4313-811b-4db7ddb277da"
      },
      "source": [
        "displacy.render(doc_1 ,style='dep', jupyter=True)"
      ],
      "execution_count": null,
      "outputs": [
        {
          "output_type": "display_data",
          "data": {
            "text/html": [
              "<span class=\"tex2jax_ignore\"><svg xmlns=\"http://www.w3.org/2000/svg\" xmlns:xlink=\"http://www.w3.org/1999/xlink\" xml:lang=\"en\" id=\"b6c0723a38d14d088c3feba009f1e467-0\" class=\"displacy\" width=\"750\" height=\"312.0\" direction=\"ltr\" style=\"max-width: none; height: 312.0px; color: #000000; background: #ffffff; font-family: Arial; direction: ltr\">\n",
              "<text class=\"displacy-token\" fill=\"currentColor\" text-anchor=\"middle\" y=\"222.0\">\n",
              "    <tspan class=\"displacy-word\" fill=\"currentColor\" x=\"50\">This</tspan>\n",
              "    <tspan class=\"displacy-tag\" dy=\"2em\" fill=\"currentColor\" x=\"50\">DET</tspan>\n",
              "</text>\n",
              "\n",
              "<text class=\"displacy-token\" fill=\"currentColor\" text-anchor=\"middle\" y=\"222.0\">\n",
              "    <tspan class=\"displacy-word\" fill=\"currentColor\" x=\"225\">is</tspan>\n",
              "    <tspan class=\"displacy-tag\" dy=\"2em\" fill=\"currentColor\" x=\"225\">AUX</tspan>\n",
              "</text>\n",
              "\n",
              "<text class=\"displacy-token\" fill=\"currentColor\" text-anchor=\"middle\" y=\"222.0\">\n",
              "    <tspan class=\"displacy-word\" fill=\"currentColor\" x=\"400\">a</tspan>\n",
              "    <tspan class=\"displacy-tag\" dy=\"2em\" fill=\"currentColor\" x=\"400\">DET</tspan>\n",
              "</text>\n",
              "\n",
              "<text class=\"displacy-token\" fill=\"currentColor\" text-anchor=\"middle\" y=\"222.0\">\n",
              "    <tspan class=\"displacy-word\" fill=\"currentColor\" x=\"575\">sentence</tspan>\n",
              "    <tspan class=\"displacy-tag\" dy=\"2em\" fill=\"currentColor\" x=\"575\">NOUN</tspan>\n",
              "</text>\n",
              "\n",
              "<g class=\"displacy-arrow\">\n",
              "    <path class=\"displacy-arc\" id=\"arrow-b6c0723a38d14d088c3feba009f1e467-0-0\" stroke-width=\"2px\" d=\"M70,177.0 C70,89.5 220.0,89.5 220.0,177.0\" fill=\"none\" stroke=\"currentColor\"/>\n",
              "    <text dy=\"1.25em\" style=\"font-size: 0.8em; letter-spacing: 1px\">\n",
              "        <textPath xlink:href=\"#arrow-b6c0723a38d14d088c3feba009f1e467-0-0\" class=\"displacy-label\" startOffset=\"50%\" side=\"left\" fill=\"currentColor\" text-anchor=\"middle\">nsubj</textPath>\n",
              "    </text>\n",
              "    <path class=\"displacy-arrowhead\" d=\"M70,179.0 L62,167.0 78,167.0\" fill=\"currentColor\"/>\n",
              "</g>\n",
              "\n",
              "<g class=\"displacy-arrow\">\n",
              "    <path class=\"displacy-arc\" id=\"arrow-b6c0723a38d14d088c3feba009f1e467-0-1\" stroke-width=\"2px\" d=\"M420,177.0 C420,89.5 570.0,89.5 570.0,177.0\" fill=\"none\" stroke=\"currentColor\"/>\n",
              "    <text dy=\"1.25em\" style=\"font-size: 0.8em; letter-spacing: 1px\">\n",
              "        <textPath xlink:href=\"#arrow-b6c0723a38d14d088c3feba009f1e467-0-1\" class=\"displacy-label\" startOffset=\"50%\" side=\"left\" fill=\"currentColor\" text-anchor=\"middle\">det</textPath>\n",
              "    </text>\n",
              "    <path class=\"displacy-arrowhead\" d=\"M420,179.0 L412,167.0 428,167.0\" fill=\"currentColor\"/>\n",
              "</g>\n",
              "\n",
              "<g class=\"displacy-arrow\">\n",
              "    <path class=\"displacy-arc\" id=\"arrow-b6c0723a38d14d088c3feba009f1e467-0-2\" stroke-width=\"2px\" d=\"M245,177.0 C245,2.0 575.0,2.0 575.0,177.0\" fill=\"none\" stroke=\"currentColor\"/>\n",
              "    <text dy=\"1.25em\" style=\"font-size: 0.8em; letter-spacing: 1px\">\n",
              "        <textPath xlink:href=\"#arrow-b6c0723a38d14d088c3feba009f1e467-0-2\" class=\"displacy-label\" startOffset=\"50%\" side=\"left\" fill=\"currentColor\" text-anchor=\"middle\">attr</textPath>\n",
              "    </text>\n",
              "    <path class=\"displacy-arrowhead\" d=\"M575.0,179.0 L583.0,167.0 567.0,167.0\" fill=\"currentColor\"/>\n",
              "</g>\n",
              "</svg></span>"
            ],
            "text/plain": [
              "<IPython.core.display.HTML object>"
            ]
          },
          "metadata": {}
        }
      ]
    }
  ]
}